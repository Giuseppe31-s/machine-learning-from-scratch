{
 "cells": [
  {
   "cell_type": "markdown",
   "id": "ffd9e6f8",
   "metadata": {},
   "source": [
    "Implement stupid decision tree over fited\n",
    "\n",
    "ref:\n",
    "\n",
    "https://towardsdatascience.com/implementing-a-decision-tree-from-scratch-f5358ff9c4bb/\n",
    "\n",
    "https://mlcourse.ai/book/topic03/topic03_decision_trees_kNN.html\n",
    "\n",
    "https://www.youtube.com/watch?v=NxEHSAfFlK8&list=PLcWfeUsAys2k_xub3mHks85sBHZvg24Jd&index=5\n",
    "\n",
    "https://github.com/eriklindernoren/ML-From-Scratch/blob/master/mlfromscratch/supervised_learning/decision_tree.py"
   ]
  },
  {
   "cell_type": "code",
   "execution_count": 1,
   "id": "b0404215",
   "metadata": {},
   "outputs": [],
   "source": [
    "import random\n",
    "from collections import Counter\n"
   ]
  },
  {
   "cell_type": "code",
   "execution_count": 2,
   "id": "b3b101e5",
   "metadata": {},
   "outputs": [],
   "source": [
    "from sklearn.datasets import load_breast_cancer\n"
   ]
  },
  {
   "cell_type": "code",
   "execution_count": 3,
   "id": "fb572585",
   "metadata": {},
   "outputs": [],
   "source": [
    "cancer = load_breast_cancer()"
   ]
  },
  {
   "cell_type": "code",
   "execution_count": 4,
   "id": "face3aea",
   "metadata": {},
   "outputs": [
    {
     "data": {
      "text/plain": [
       "array(['mean radius', 'mean texture', 'mean perimeter', 'mean area',\n",
       "       'mean smoothness', 'mean compactness', 'mean concavity',\n",
       "       'mean concave points', 'mean symmetry', 'mean fractal dimension',\n",
       "       'radius error', 'texture error', 'perimeter error', 'area error',\n",
       "       'smoothness error', 'compactness error', 'concavity error',\n",
       "       'concave points error', 'symmetry error',\n",
       "       'fractal dimension error', 'worst radius', 'worst texture',\n",
       "       'worst perimeter', 'worst area', 'worst smoothness',\n",
       "       'worst compactness', 'worst concavity', 'worst concave points',\n",
       "       'worst symmetry', 'worst fractal dimension'], dtype='<U23')"
      ]
     },
     "execution_count": 4,
     "metadata": {},
     "output_type": "execute_result"
    }
   ],
   "source": [
    "cancer.feature_names"
   ]
  },
  {
   "cell_type": "code",
   "execution_count": 5,
   "id": "7f8b4cf4",
   "metadata": {},
   "outputs": [
    {
     "data": {
      "text/html": [
       "<div>\n",
       "<style scoped>\n",
       "    .dataframe tbody tr th:only-of-type {\n",
       "        vertical-align: middle;\n",
       "    }\n",
       "\n",
       "    .dataframe tbody tr th {\n",
       "        vertical-align: top;\n",
       "    }\n",
       "\n",
       "    .dataframe thead th {\n",
       "        text-align: right;\n",
       "    }\n",
       "</style>\n",
       "<table border=\"1\" class=\"dataframe\">\n",
       "  <thead>\n",
       "    <tr style=\"text-align: right;\">\n",
       "      <th></th>\n",
       "      <th>mean radius</th>\n",
       "      <th>mean texture</th>\n",
       "      <th>mean perimeter</th>\n",
       "      <th>mean area</th>\n",
       "      <th>mean smoothness</th>\n",
       "      <th>mean compactness</th>\n",
       "      <th>mean concavity</th>\n",
       "      <th>mean concave points</th>\n",
       "      <th>mean symmetry</th>\n",
       "      <th>mean fractal dimension</th>\n",
       "      <th>...</th>\n",
       "      <th>worst radius</th>\n",
       "      <th>worst texture</th>\n",
       "      <th>worst perimeter</th>\n",
       "      <th>worst area</th>\n",
       "      <th>worst smoothness</th>\n",
       "      <th>worst compactness</th>\n",
       "      <th>worst concavity</th>\n",
       "      <th>worst concave points</th>\n",
       "      <th>worst symmetry</th>\n",
       "      <th>worst fractal dimension</th>\n",
       "    </tr>\n",
       "  </thead>\n",
       "  <tbody>\n",
       "    <tr>\n",
       "      <th>0</th>\n",
       "      <td>17.99</td>\n",
       "      <td>10.38</td>\n",
       "      <td>122.80</td>\n",
       "      <td>1001.0</td>\n",
       "      <td>0.11840</td>\n",
       "      <td>0.27760</td>\n",
       "      <td>0.30010</td>\n",
       "      <td>0.14710</td>\n",
       "      <td>0.2419</td>\n",
       "      <td>0.07871</td>\n",
       "      <td>...</td>\n",
       "      <td>25.380</td>\n",
       "      <td>17.33</td>\n",
       "      <td>184.60</td>\n",
       "      <td>2019.0</td>\n",
       "      <td>0.16220</td>\n",
       "      <td>0.66560</td>\n",
       "      <td>0.7119</td>\n",
       "      <td>0.2654</td>\n",
       "      <td>0.4601</td>\n",
       "      <td>0.11890</td>\n",
       "    </tr>\n",
       "    <tr>\n",
       "      <th>1</th>\n",
       "      <td>20.57</td>\n",
       "      <td>17.77</td>\n",
       "      <td>132.90</td>\n",
       "      <td>1326.0</td>\n",
       "      <td>0.08474</td>\n",
       "      <td>0.07864</td>\n",
       "      <td>0.08690</td>\n",
       "      <td>0.07017</td>\n",
       "      <td>0.1812</td>\n",
       "      <td>0.05667</td>\n",
       "      <td>...</td>\n",
       "      <td>24.990</td>\n",
       "      <td>23.41</td>\n",
       "      <td>158.80</td>\n",
       "      <td>1956.0</td>\n",
       "      <td>0.12380</td>\n",
       "      <td>0.18660</td>\n",
       "      <td>0.2416</td>\n",
       "      <td>0.1860</td>\n",
       "      <td>0.2750</td>\n",
       "      <td>0.08902</td>\n",
       "    </tr>\n",
       "    <tr>\n",
       "      <th>2</th>\n",
       "      <td>19.69</td>\n",
       "      <td>21.25</td>\n",
       "      <td>130.00</td>\n",
       "      <td>1203.0</td>\n",
       "      <td>0.10960</td>\n",
       "      <td>0.15990</td>\n",
       "      <td>0.19740</td>\n",
       "      <td>0.12790</td>\n",
       "      <td>0.2069</td>\n",
       "      <td>0.05999</td>\n",
       "      <td>...</td>\n",
       "      <td>23.570</td>\n",
       "      <td>25.53</td>\n",
       "      <td>152.50</td>\n",
       "      <td>1709.0</td>\n",
       "      <td>0.14440</td>\n",
       "      <td>0.42450</td>\n",
       "      <td>0.4504</td>\n",
       "      <td>0.2430</td>\n",
       "      <td>0.3613</td>\n",
       "      <td>0.08758</td>\n",
       "    </tr>\n",
       "    <tr>\n",
       "      <th>3</th>\n",
       "      <td>11.42</td>\n",
       "      <td>20.38</td>\n",
       "      <td>77.58</td>\n",
       "      <td>386.1</td>\n",
       "      <td>0.14250</td>\n",
       "      <td>0.28390</td>\n",
       "      <td>0.24140</td>\n",
       "      <td>0.10520</td>\n",
       "      <td>0.2597</td>\n",
       "      <td>0.09744</td>\n",
       "      <td>...</td>\n",
       "      <td>14.910</td>\n",
       "      <td>26.50</td>\n",
       "      <td>98.87</td>\n",
       "      <td>567.7</td>\n",
       "      <td>0.20980</td>\n",
       "      <td>0.86630</td>\n",
       "      <td>0.6869</td>\n",
       "      <td>0.2575</td>\n",
       "      <td>0.6638</td>\n",
       "      <td>0.17300</td>\n",
       "    </tr>\n",
       "    <tr>\n",
       "      <th>4</th>\n",
       "      <td>20.29</td>\n",
       "      <td>14.34</td>\n",
       "      <td>135.10</td>\n",
       "      <td>1297.0</td>\n",
       "      <td>0.10030</td>\n",
       "      <td>0.13280</td>\n",
       "      <td>0.19800</td>\n",
       "      <td>0.10430</td>\n",
       "      <td>0.1809</td>\n",
       "      <td>0.05883</td>\n",
       "      <td>...</td>\n",
       "      <td>22.540</td>\n",
       "      <td>16.67</td>\n",
       "      <td>152.20</td>\n",
       "      <td>1575.0</td>\n",
       "      <td>0.13740</td>\n",
       "      <td>0.20500</td>\n",
       "      <td>0.4000</td>\n",
       "      <td>0.1625</td>\n",
       "      <td>0.2364</td>\n",
       "      <td>0.07678</td>\n",
       "    </tr>\n",
       "    <tr>\n",
       "      <th>...</th>\n",
       "      <td>...</td>\n",
       "      <td>...</td>\n",
       "      <td>...</td>\n",
       "      <td>...</td>\n",
       "      <td>...</td>\n",
       "      <td>...</td>\n",
       "      <td>...</td>\n",
       "      <td>...</td>\n",
       "      <td>...</td>\n",
       "      <td>...</td>\n",
       "      <td>...</td>\n",
       "      <td>...</td>\n",
       "      <td>...</td>\n",
       "      <td>...</td>\n",
       "      <td>...</td>\n",
       "      <td>...</td>\n",
       "      <td>...</td>\n",
       "      <td>...</td>\n",
       "      <td>...</td>\n",
       "      <td>...</td>\n",
       "      <td>...</td>\n",
       "    </tr>\n",
       "    <tr>\n",
       "      <th>564</th>\n",
       "      <td>21.56</td>\n",
       "      <td>22.39</td>\n",
       "      <td>142.00</td>\n",
       "      <td>1479.0</td>\n",
       "      <td>0.11100</td>\n",
       "      <td>0.11590</td>\n",
       "      <td>0.24390</td>\n",
       "      <td>0.13890</td>\n",
       "      <td>0.1726</td>\n",
       "      <td>0.05623</td>\n",
       "      <td>...</td>\n",
       "      <td>25.450</td>\n",
       "      <td>26.40</td>\n",
       "      <td>166.10</td>\n",
       "      <td>2027.0</td>\n",
       "      <td>0.14100</td>\n",
       "      <td>0.21130</td>\n",
       "      <td>0.4107</td>\n",
       "      <td>0.2216</td>\n",
       "      <td>0.2060</td>\n",
       "      <td>0.07115</td>\n",
       "    </tr>\n",
       "    <tr>\n",
       "      <th>565</th>\n",
       "      <td>20.13</td>\n",
       "      <td>28.25</td>\n",
       "      <td>131.20</td>\n",
       "      <td>1261.0</td>\n",
       "      <td>0.09780</td>\n",
       "      <td>0.10340</td>\n",
       "      <td>0.14400</td>\n",
       "      <td>0.09791</td>\n",
       "      <td>0.1752</td>\n",
       "      <td>0.05533</td>\n",
       "      <td>...</td>\n",
       "      <td>23.690</td>\n",
       "      <td>38.25</td>\n",
       "      <td>155.00</td>\n",
       "      <td>1731.0</td>\n",
       "      <td>0.11660</td>\n",
       "      <td>0.19220</td>\n",
       "      <td>0.3215</td>\n",
       "      <td>0.1628</td>\n",
       "      <td>0.2572</td>\n",
       "      <td>0.06637</td>\n",
       "    </tr>\n",
       "    <tr>\n",
       "      <th>566</th>\n",
       "      <td>16.60</td>\n",
       "      <td>28.08</td>\n",
       "      <td>108.30</td>\n",
       "      <td>858.1</td>\n",
       "      <td>0.08455</td>\n",
       "      <td>0.10230</td>\n",
       "      <td>0.09251</td>\n",
       "      <td>0.05302</td>\n",
       "      <td>0.1590</td>\n",
       "      <td>0.05648</td>\n",
       "      <td>...</td>\n",
       "      <td>18.980</td>\n",
       "      <td>34.12</td>\n",
       "      <td>126.70</td>\n",
       "      <td>1124.0</td>\n",
       "      <td>0.11390</td>\n",
       "      <td>0.30940</td>\n",
       "      <td>0.3403</td>\n",
       "      <td>0.1418</td>\n",
       "      <td>0.2218</td>\n",
       "      <td>0.07820</td>\n",
       "    </tr>\n",
       "    <tr>\n",
       "      <th>567</th>\n",
       "      <td>20.60</td>\n",
       "      <td>29.33</td>\n",
       "      <td>140.10</td>\n",
       "      <td>1265.0</td>\n",
       "      <td>0.11780</td>\n",
       "      <td>0.27700</td>\n",
       "      <td>0.35140</td>\n",
       "      <td>0.15200</td>\n",
       "      <td>0.2397</td>\n",
       "      <td>0.07016</td>\n",
       "      <td>...</td>\n",
       "      <td>25.740</td>\n",
       "      <td>39.42</td>\n",
       "      <td>184.60</td>\n",
       "      <td>1821.0</td>\n",
       "      <td>0.16500</td>\n",
       "      <td>0.86810</td>\n",
       "      <td>0.9387</td>\n",
       "      <td>0.2650</td>\n",
       "      <td>0.4087</td>\n",
       "      <td>0.12400</td>\n",
       "    </tr>\n",
       "    <tr>\n",
       "      <th>568</th>\n",
       "      <td>7.76</td>\n",
       "      <td>24.54</td>\n",
       "      <td>47.92</td>\n",
       "      <td>181.0</td>\n",
       "      <td>0.05263</td>\n",
       "      <td>0.04362</td>\n",
       "      <td>0.00000</td>\n",
       "      <td>0.00000</td>\n",
       "      <td>0.1587</td>\n",
       "      <td>0.05884</td>\n",
       "      <td>...</td>\n",
       "      <td>9.456</td>\n",
       "      <td>30.37</td>\n",
       "      <td>59.16</td>\n",
       "      <td>268.6</td>\n",
       "      <td>0.08996</td>\n",
       "      <td>0.06444</td>\n",
       "      <td>0.0000</td>\n",
       "      <td>0.0000</td>\n",
       "      <td>0.2871</td>\n",
       "      <td>0.07039</td>\n",
       "    </tr>\n",
       "  </tbody>\n",
       "</table>\n",
       "<p>569 rows × 30 columns</p>\n",
       "</div>"
      ],
      "text/plain": [
       "     mean radius  mean texture  mean perimeter  mean area  mean smoothness  \\\n",
       "0          17.99         10.38          122.80     1001.0          0.11840   \n",
       "1          20.57         17.77          132.90     1326.0          0.08474   \n",
       "2          19.69         21.25          130.00     1203.0          0.10960   \n",
       "3          11.42         20.38           77.58      386.1          0.14250   \n",
       "4          20.29         14.34          135.10     1297.0          0.10030   \n",
       "..           ...           ...             ...        ...              ...   \n",
       "564        21.56         22.39          142.00     1479.0          0.11100   \n",
       "565        20.13         28.25          131.20     1261.0          0.09780   \n",
       "566        16.60         28.08          108.30      858.1          0.08455   \n",
       "567        20.60         29.33          140.10     1265.0          0.11780   \n",
       "568         7.76         24.54           47.92      181.0          0.05263   \n",
       "\n",
       "     mean compactness  mean concavity  mean concave points  mean symmetry  \\\n",
       "0             0.27760         0.30010              0.14710         0.2419   \n",
       "1             0.07864         0.08690              0.07017         0.1812   \n",
       "2             0.15990         0.19740              0.12790         0.2069   \n",
       "3             0.28390         0.24140              0.10520         0.2597   \n",
       "4             0.13280         0.19800              0.10430         0.1809   \n",
       "..                ...             ...                  ...            ...   \n",
       "564           0.11590         0.24390              0.13890         0.1726   \n",
       "565           0.10340         0.14400              0.09791         0.1752   \n",
       "566           0.10230         0.09251              0.05302         0.1590   \n",
       "567           0.27700         0.35140              0.15200         0.2397   \n",
       "568           0.04362         0.00000              0.00000         0.1587   \n",
       "\n",
       "     mean fractal dimension  ...  worst radius  worst texture  \\\n",
       "0                   0.07871  ...        25.380          17.33   \n",
       "1                   0.05667  ...        24.990          23.41   \n",
       "2                   0.05999  ...        23.570          25.53   \n",
       "3                   0.09744  ...        14.910          26.50   \n",
       "4                   0.05883  ...        22.540          16.67   \n",
       "..                      ...  ...           ...            ...   \n",
       "564                 0.05623  ...        25.450          26.40   \n",
       "565                 0.05533  ...        23.690          38.25   \n",
       "566                 0.05648  ...        18.980          34.12   \n",
       "567                 0.07016  ...        25.740          39.42   \n",
       "568                 0.05884  ...         9.456          30.37   \n",
       "\n",
       "     worst perimeter  worst area  worst smoothness  worst compactness  \\\n",
       "0             184.60      2019.0           0.16220            0.66560   \n",
       "1             158.80      1956.0           0.12380            0.18660   \n",
       "2             152.50      1709.0           0.14440            0.42450   \n",
       "3              98.87       567.7           0.20980            0.86630   \n",
       "4             152.20      1575.0           0.13740            0.20500   \n",
       "..               ...         ...               ...                ...   \n",
       "564           166.10      2027.0           0.14100            0.21130   \n",
       "565           155.00      1731.0           0.11660            0.19220   \n",
       "566           126.70      1124.0           0.11390            0.30940   \n",
       "567           184.60      1821.0           0.16500            0.86810   \n",
       "568            59.16       268.6           0.08996            0.06444   \n",
       "\n",
       "     worst concavity  worst concave points  worst symmetry  \\\n",
       "0             0.7119                0.2654          0.4601   \n",
       "1             0.2416                0.1860          0.2750   \n",
       "2             0.4504                0.2430          0.3613   \n",
       "3             0.6869                0.2575          0.6638   \n",
       "4             0.4000                0.1625          0.2364   \n",
       "..               ...                   ...             ...   \n",
       "564           0.4107                0.2216          0.2060   \n",
       "565           0.3215                0.1628          0.2572   \n",
       "566           0.3403                0.1418          0.2218   \n",
       "567           0.9387                0.2650          0.4087   \n",
       "568           0.0000                0.0000          0.2871   \n",
       "\n",
       "     worst fractal dimension  \n",
       "0                    0.11890  \n",
       "1                    0.08902  \n",
       "2                    0.08758  \n",
       "3                    0.17300  \n",
       "4                    0.07678  \n",
       "..                       ...  \n",
       "564                  0.07115  \n",
       "565                  0.06637  \n",
       "566                  0.07820  \n",
       "567                  0.12400  \n",
       "568                  0.07039  \n",
       "\n",
       "[569 rows x 30 columns]"
      ]
     },
     "execution_count": 5,
     "metadata": {},
     "output_type": "execute_result"
    }
   ],
   "source": [
    "import pandas as pd\n",
    "\n",
    "df = pd.DataFrame(data = cancer.data, columns=cancer.feature_names)\n",
    "df"
   ]
  },
  {
   "cell_type": "code",
   "execution_count": 6,
   "id": "6e5e6c4d",
   "metadata": {},
   "outputs": [
    {
     "data": {
      "text/plain": [
       "array([1001. , 1326. , 1203. ,  386.1, 1297. ,  477.1, 1040. ,  577.9,\n",
       "        519.8,  475.9,  797.8,  781. , 1123. ,  782.7,  578.3,  658.8,\n",
       "        684.5,  798.8, 1260. ,  566.3,  520. ,  273.9,  704.4, 1404. ,\n",
       "        904.6,  912.7,  644.8, 1094. ,  732.4,  955.1, 1088. ,  440.6,\n",
       "        899.3, 1162. ,  807.2,  869.5,  633. ,  523.8,  698.8,  559.2,\n",
       "        563. ,  371.1, 1104. ,  545.2,  531.5, 1076. ,  201.9,  534.6,\n",
       "        449.3,  561. ,  427.9,  571.8,  437.6, 1033. ,  712.8,  409. ,\n",
       "       1152. ,  656.9,  527.2,  224.5,  311.9,  221.8,  645.7,  260.9,\n",
       "        499. ,  668.3,  269.4,  394.1,  250.5,  502.5, 1130. ,  244. ,\n",
       "        929.4,  584.1,  470.9,  817.7, 1006. , 1245. ,  506.3,  401.5,\n",
       "       1878. , 1132. ,  443.3, 1075. ,  648.2,  466.1,  651.9,  662.7,\n",
       "        728.2,  551.7,  555.1,  705.6, 1264. ,  451.1,  294.5,  412.6,\n",
       "        642.5,  582.7,  143.5,  458.7,  298.3,  336.1,  530.2,  412.5,\n",
       "        466.7, 1509. ,  396.5,  290.2,  480.4,  629.9,  334.2,  230.9,\n",
       "        438.6,  245.2,  682.5,  782.6,  982. ,  403.3, 1077. , 1761. ,\n",
       "        640.7,  553.5,  588.7,  572.6, 1138. ,  674.5, 1192. ,  455.8,\n",
       "        748.9,  809.8,  761.7,  423.6,  399.8,  678.1,  384.8,  288.5,\n",
       "        813. ,  398. ,  512.2,  355.3,  432.8,  432. ,  689.5,  640.1,\n",
       "        585. ,  519.4,  203.9,  300.2,  381.9,  538.9,  460.3,  963.7,\n",
       "        880.2,  448.6,  366.8,  419.8, 1157. , 1214. ,  464.5, 1686. ,\n",
       "        690.2,  357.6,  886.3,  984.6,  685.9,  464.1,  565.4,  736.9,\n",
       "        372.7,  349.6,  227.2,  302.4,  832.9,  526.4,  508.8, 2250. ,\n",
       "       1311. ,  766.6,  402. ,  710.6,  317.5, 1041. ,  420.3,  428.9,\n",
       "        463.7,  609.9,  507.4,  288.1,  477.4,  671.4,  516.4,  588.9,\n",
       "       1024. , 1148. ,  642.7,  461. ,  951.6, 1685. ,  597.8,  481.9,\n",
       "        716.6,  295.4,  904.3,  529.4,  725.5, 1290. ,  428. , 2499. ,\n",
       "        948. ,  610.7,  578.9,  432.2,  321.2, 1230. , 1223. ,  568.9,\n",
       "        561.3,  313.1,  761.3,  546.4,  641.2,  329.6,  496.4,  503.2,\n",
       "        895. ,  395.7,  386.8, 1319. ,  279.6,  603.4, 1670. , 1306. ,\n",
       "        623.9,  920.6,  575.3,  476.5,  389.4,  590. , 1155. ,  337.7,\n",
       "        541.6,  347. ,  406.3, 1364. ,  407.4, 1206. ,  928.2, 1169. ,\n",
       "        602.4, 1207. ,  713.3,  773.5,  744.9, 1288. ,  933.1,  947.8,\n",
       "        758.6,  928.3, 1419. ,  346.4,  344.9,  632.6,  388. , 1491. ,\n",
       "        289.9,  998.9,  435.6,  396.6, 1102. ,  572.3,  587.4,  427.3,\n",
       "       1145. ,  805.1,  516.6,  489. ,  441. ,  515.9,  396. ,  651. ,\n",
       "        687.3,  513.7,  432.7,  492.1,  363.7,  431.1,  633.1, 1217. ,\n",
       "        471.3, 1247. ,  334.3,  403.1,  417.2,  537.3,  246.3,  566.2,\n",
       "        530.6,  418.7,  664.9,  504.1,  409.1,  221.2,  481.6,  461.4,\n",
       "       1027. ,  244.5,  477.3,  324.2, 1274. ,  504.8,  457.9,  489.9,\n",
       "        616.5,  446. ,  813.7,  826.8,  793.2,  514. ,  387.3,  390. ,\n",
       "        464.4,  918.6,  514.3, 1092. ,  310.8, 1747. ,  280.5,  373.9,\n",
       "       1194. ,  321.6,  445.3,  668.7,  402.7,  426.7,  421. , 2010. ,\n",
       "        384.6,  485.8,  512. ,  593.7,  241. ,  278.6,  491.9,  546.1,\n",
       "        496.6,  838.1,  552.4, 1293. , 1234. ,  458.4, 1546. , 1482. ,\n",
       "        840.4,  711.8, 1386. , 1335. ,  579.1,  788.5,  338.3,  562.1,\n",
       "        580.6,  361.6,  386.3,  447.8,  462.9,  541.8,  664.7,  462. ,\n",
       "        596.6,  392. , 1174. ,  234.3,  744.7, 1407. ,  446.2,  609.1,\n",
       "        558.1,  508.3,  378.2,  431.9,  994. ,  442.7,  525.2,  507.6,\n",
       "        469.1,  370. ,  800. ,  514.5,  991.7,  373.2,  268.8,  693.7,\n",
       "        719.5,  433.8,  271.2,  803.1,  495. ,  380.3,  409.7,  656.1,\n",
       "        408.2,  289.7,  307.3,  333.6,  359.9,  381.1,  501.3,  685. ,\n",
       "        467.8, 1250. , 1110. ,  673.7,  599.5,  509.2,  611.2,  592.6,\n",
       "        606.5,  371.5,  928.8,  585.9,  340.9,  990. ,  441.3,  981.6,\n",
       "        674.8,  659.7, 1384. , 1191. ,  442.5,  644.2,  492.9,  557.2,\n",
       "        415.1,  537.9,  520.2,  290.9,  930.9, 2501. ,  646.1,  412.7,\n",
       "        542.9,  536.9,  286.3,  980.5,  408.8,  289.1,  449.9,  686.9,\n",
       "        465.4,  358.9,  506.9,  618.4,  599.4,  404.9,  815.8,  455.3,\n",
       "        602.9,  546.3,  571.1,  747.2,  476.7,  666. , 1167. ,  420.5,\n",
       "        857.6,  466.5,  992.1, 1007. ,  538.7,  680.9,  485.6,  480.1,\n",
       "       1068. , 1320. ,  689.4,  595.9,  476.3, 1682. ,  248.7,  272.5,\n",
       "        453.1,  366.5,  819.8,  731.3,  426. ,  680.7,  556.7,  701.9,\n",
       "        391.2, 1052. ,  493.1,  493.8,  257.8, 1841. ,  388.1,  571. ,\n",
       "        293.2,  221.3,  551.1,  468.5,  594.2,  445.2,  422.9,  416.2,\n",
       "        575.5, 1299. ,  365.6, 1308. ,  629.8,  406.4,  178.8,  170.4,\n",
       "        402.9,  656.4,  668.6,  538.4,  584.8,  573.2,  324.9,  320.8,\n",
       "        285.7,  360.5,  378.4,  507.9,  264. ,  321.4,  311.7,  271.3,\n",
       "        657.1,  403.5,  600.4,  386. ,  716.9, 1347. , 1479. , 1261. ,\n",
       "        858.1, 1265. ,  181. ])"
      ]
     },
     "execution_count": 6,
     "metadata": {},
     "output_type": "execute_result"
    }
   ],
   "source": [
    "df[\"mean area\"].unique()"
   ]
  },
  {
   "cell_type": "code",
   "execution_count": 7,
   "id": "01ad1376",
   "metadata": {},
   "outputs": [
    {
     "ename": "NameError",
     "evalue": "name 'aaaaaaa' is not defined",
     "output_type": "error",
     "traceback": [
      "\u001b[31m---------------------------------------------------------------------------\u001b[39m",
      "\u001b[31mNameError\u001b[39m                                 Traceback (most recent call last)",
      "\u001b[36mCell\u001b[39m\u001b[36m \u001b[39m\u001b[32mIn[7]\u001b[39m\u001b[32m, line 1\u001b[39m\n\u001b[32m----> \u001b[39m\u001b[32m1\u001b[39m \u001b[43maaaaaaa\u001b[49m\n",
      "\u001b[31mNameError\u001b[39m: name 'aaaaaaa' is not defined"
     ]
    }
   ],
   "source": [
    "aaaaaaa"
   ]
  },
  {
   "cell_type": "code",
   "execution_count": null,
   "id": "7589527f",
   "metadata": {},
   "outputs": [],
   "source": [
    "balls = {idx: ball for idx, ball in zip(range(20),  random.choices([0,1], [30,70], k=20))}\n"
   ]
  },
  {
   "attachments": {
    "image.png": {
     "image/png": "[encoded data removed]"
    }
   },
   "cell_type": "markdown",
   "id": "7665a320",
   "metadata": {},
   "source": [
    "where \n",
    " is the probability of finding the system in the \n",
    "-th state. This is a very important concept used in physics, information theory, and other areas. Entropy can be described as the degree of chaos in the system. The higher the entropy, the less ordered the system and vice versa. This will help us formalize “effective data splitting”\n",
    "\n",
    "![image.png](attachment:image.png)"
   ]
  },
  {
   "cell_type": "code",
   "execution_count": null,
   "id": "5184303c",
   "metadata": {},
   "outputs": [],
   "source": [
    "import math"
   ]
  },
  {
   "cell_type": "code",
   "execution_count": null,
   "id": "b511f46b",
   "metadata": {},
   "outputs": [],
   "source": [
    "def entropy(balls):\n",
    "\n",
    "    len_balls = len(balls)\n",
    "    if len_balls == 0:\n",
    "        return 0\n",
    "    counts = Counter(balls.values())\n",
    "    entropy_value = 0\n",
    "    for ball, count in counts.items():\n",
    "        p = count / len_balls\n",
    "        entropy_value -= p * math.log2(p)\n",
    "    return entropy_value"
   ]
  },
  {
   "cell_type": "code",
   "execution_count": null,
   "id": "ff89bd8e",
   "metadata": {},
   "outputs": [],
   "source": [
    "circle_colors = {\n",
    "    0: \"O\",\n",
    "    1: \"B\",\n",
    "    2: \"B\",\n",
    "    3: \"B\",\n",
    "    4: \"B\",\n",
    "    5: \"O\",\n",
    "    6: \"O\",\n",
    "    7: \"O\",\n",
    "    8: \"O\",\n",
    "    9: \"B\",\n",
    "    10: \"B\",\n",
    "    11: \"B\",\n",
    "    12: \"B\",\n",
    "    13: \"O\",\n",
    "    14: \"O\",\n",
    "    15: \"O\",\n",
    "    16: \"O\",\n",
    "    17: \"O\",\n",
    "    18: \"O\",\n",
    "    19: \"B\",\n",
    "}\n"
   ]
  },
  {
   "cell_type": "code",
   "execution_count": null,
   "id": "6e9a154d",
   "metadata": {},
   "outputs": [
    {
     "data": {
      "text/plain": [
       "0.9927744539878083"
      ]
     },
     "execution_count": 10,
     "metadata": {},
     "output_type": "execute_result"
    }
   ],
   "source": [
    "entropy(circle_colors)"
   ]
  },
  {
   "attachments": {
    "image.png": {
     "image/png": "[encoded data removed]"
    }
   },
   "cell_type": "markdown",
   "id": "9e1f9945",
   "metadata": {},
   "source": [
    "![image.png](attachment:image.png)"
   ]
  },
  {
   "cell_type": "code",
   "execution_count": null,
   "id": "d62d7fc2",
   "metadata": {},
   "outputs": [],
   "source": [
    "def split_dict(dictionary, index):\n",
    "    \"\"\"\n",
    "    Splits a dictionary into two parts based on the index.\n",
    "    \"\"\"\n",
    "    return {k: v for k, v in dictionary.items() if k <= index}, \\\n",
    "           {k: v for k, v in dictionary.items() if k > index}"
   ]
  },
  {
   "cell_type": "code",
   "execution_count": null,
   "id": "a57fd8fd",
   "metadata": {},
   "outputs": [],
   "source": [
    "left, right = split_dict(circle_colors, 12)"
   ]
  },
  {
   "cell_type": "code",
   "execution_count": null,
   "id": "061fe0f4",
   "metadata": {},
   "outputs": [
    {
     "data": {
      "text/plain": [
       "dict_items([('O', 5), ('B', 8)])"
      ]
     },
     "execution_count": 13,
     "metadata": {},
     "output_type": "execute_result"
    }
   ],
   "source": [
    "Counter(left.values(\n",
    "\n",
    ")).items()"
   ]
  },
  {
   "cell_type": "code",
   "execution_count": null,
   "id": "e1554b08",
   "metadata": {},
   "outputs": [
    {
     "data": {
      "text/plain": [
       "0.9612366047228759"
      ]
     },
     "execution_count": 14,
     "metadata": {},
     "output_type": "execute_result"
    }
   ],
   "source": [
    "entropy(split_dict(circle_colors, 12)[0])"
   ]
  },
  {
   "cell_type": "code",
   "execution_count": null,
   "id": "ffcb1589",
   "metadata": {},
   "outputs": [
    {
     "data": {
      "text/plain": [
       "0.5916727785823275"
      ]
     },
     "execution_count": 15,
     "metadata": {},
     "output_type": "execute_result"
    }
   ],
   "source": [
    "entropy(split_dict(circle_colors, 12)[1])"
   ]
  },
  {
   "cell_type": "code",
   "execution_count": null,
   "id": "de7b1434",
   "metadata": {},
   "outputs": [],
   "source": [
    "def information_gain(balls, condition):\n",
    "    total_entropy = entropy(balls)\n",
    "    len_balls = len(balls)\n",
    "    s = 0\n",
    "    for subset in split_dict(balls, condition):\n",
    "        weight = len(subset) / len_balls\n",
    "        subset_entropy = entropy(subset)\n",
    "        s += weight * subset_entropy\n",
    "    return total_entropy - s\n"
   ]
  },
  {
   "cell_type": "code",
   "execution_count": 17,
   "id": "35096b6e",
   "metadata": {},
   "outputs": [
    {
     "data": {
      "text/plain": [
       "10"
      ]
     },
     "execution_count": 17,
     "metadata": {},
     "output_type": "execute_result"
    }
   ],
   "source": [
    "30 - (10 + 10 )"
   ]
  },
  {
   "cell_type": "code",
   "execution_count": 18,
   "id": "ac541deb",
   "metadata": {},
   "outputs": [],
   "source": [
    "soma = 30\n",
    "for i in [10,10]:\n",
    "    soma -= i\n"
   ]
  },
  {
   "cell_type": "code",
   "execution_count": 19,
   "id": "22149694",
   "metadata": {},
   "outputs": [
    {
     "data": {
      "text/plain": [
       "10"
      ]
     },
     "execution_count": 19,
     "metadata": {},
     "output_type": "execute_result"
    }
   ],
   "source": [
    "soma"
   ]
  },
  {
   "cell_type": "code",
   "execution_count": null,
   "id": "d6a71581",
   "metadata": {},
   "outputs": [
    {
     "data": {
      "text/plain": [
       "0.16088518841412436"
      ]
     },
     "execution_count": 17,
     "metadata": {},
     "output_type": "execute_result"
    }
   ],
   "source": [
    "information_gain(circle_colors, 12)"
   ]
  },
  {
   "cell_type": "code",
   "execution_count": 1,
   "id": "f0849a22",
   "metadata": {},
   "outputs": [],
   "source": [
    "import numpy as np"
   ]
  },
  {
   "cell_type": "code",
   "execution_count": 4,
   "id": "6a477352",
   "metadata": {},
   "outputs": [],
   "source": [
    "x = np.array([5,2,3,4,5])"
   ]
  },
  {
   "cell_type": "code",
   "execution_count": 15,
   "id": "e443d921",
   "metadata": {},
   "outputs": [],
   "source": [
    "a = np.where(x>3)[0]"
   ]
  },
  {
   "cell_type": "code",
   "execution_count": 16,
   "id": "394026b3",
   "metadata": {},
   "outputs": [
    {
     "name": "stdout",
     "output_type": "stream",
     "text": [
      "np.where: 0.003632068634033203\n",
      "np.argwhere.flatten: 0.00535130500793457\n"
     ]
    }
   ],
   "source": [
    "import numpy as np\n",
    "import time\n",
    "\n",
    "a = np.random.rand(1_000_000)\n",
    "cond = a > 0.9\n",
    "\n",
    "start = time.time()\n",
    "_ = np.where(cond)[0]\n",
    "print(\"np.where:\", time.time() - start)\n",
    "\n",
    "start = time.time()\n",
    "_ = np.argwhere(cond).flatten()\n",
    "print(\"np.argwhere.flatten:\", time.time() - start)\n"
   ]
  },
  {
   "cell_type": "code",
   "execution_count": null,
   "id": "1a8df650",
   "metadata": {},
   "outputs": [],
   "source": [
    "def find_best_criterion(balls:dict):\n",
    "    criterios = {}\n",
    "    try:\n",
    "        for i in list(balls.keys())[:-1]:\n",
    "            criterios[i] = information_gain(balls, i)\n",
    "\n",
    "        return min(criterios, key=criterios.get)\n",
    "    except Exception as e:\n",
    "        print(f\"Error finding best criterion: {e}\")\n",
    "        return None"
   ]
  },
  {
   "cell_type": "code",
   "execution_count": null,
   "id": "77ccd6e3",
   "metadata": {},
   "outputs": [],
   "source": [
    "def get_best_criterion(balls:dict):\n",
    "    criterios = {}\n",
    "    try:\n",
    "        for i in list(balls.keys())[1:-1]:\n",
    "            criterios[i] = information_gain(balls, i)\n",
    "\n",
    "        return criterios\n",
    "    except Exception as e:\n",
    "        print(f\"Error finding best criterion: {e}\")\n",
    "        return None"
   ]
  },
  {
   "cell_type": "code",
   "execution_count": null,
   "id": "b250ce5e",
   "metadata": {},
   "outputs": [],
   "source": [
    "class TreeNode:\n",
    "    def __init__(self, value, dataset):\n",
    "        self.value = value\n",
    "        self.dataset = dataset\n",
    "        self.children = []\n",
    "    def add_child(self, child):\n",
    "        self.children.append(child)\n",
    "    \n",
    "    def __repr__(self):\n",
    "        return f\"{self.value}\"\n",
    "\n",
    "    def print_tree(self, level=0):\n",
    "        indent = \"  \" * level\n",
    "        print(f\"{indent}{self.value}\")\n",
    "        for child in self.children:\n",
    "            child.print_tree(level + 1)\n"
   ]
  },
  {
   "cell_type": "code",
   "execution_count": null,
   "id": "f0960bb7",
   "metadata": {},
   "outputs": [],
   "source": [
    "tree = TreeNode(find_best_criterion(circle_colors), circle_colors)"
   ]
  },
  {
   "cell_type": "code",
   "execution_count": null,
   "id": "d6a1aefe",
   "metadata": {},
   "outputs": [
    {
     "data": {
      "text/plain": [
       "8"
      ]
     },
     "execution_count": 22,
     "metadata": {},
     "output_type": "execute_result"
    }
   ],
   "source": [
    "tree"
   ]
  },
  {
   "cell_type": "code",
   "execution_count": null,
   "id": "dc77207b",
   "metadata": {},
   "outputs": [],
   "source": [
    "left, right = split_dict(tree.dataset, tree.value)\n",
    "\n",
    "left_node = TreeNode(find_best_criterion(left), left)\n",
    "right_node = TreeNode(find_best_criterion(right), right)\n",
    "tree.add_child(left_node)\n",
    "tree.add_child(right_node)"
   ]
  },
  {
   "cell_type": "code",
   "execution_count": null,
   "id": "10db3706",
   "metadata": {},
   "outputs": [
    {
     "name": "stdout",
     "output_type": "stream",
     "text": [
      "Error finding best criterion: min() arg is an empty sequence\n",
      "Error finding best criterion: min() arg is an empty sequence\n",
      "Error finding best criterion: min() arg is an empty sequence\n",
      "Error finding best criterion: min() arg is an empty sequence\n",
      "Error finding best criterion: min() arg is an empty sequence\n",
      "Error finding best criterion: min() arg is an empty sequence\n",
      "Error finding best criterion: min() arg is an empty sequence\n",
      "Error finding best criterion: min() arg is an empty sequence\n",
      "Error finding best criterion: min() arg is an empty sequence\n",
      "Error finding best criterion: min() arg is an empty sequence\n",
      "Error finding best criterion: min() arg is an empty sequence\n",
      "Error finding best criterion: min() arg is an empty sequence\n",
      "Error finding best criterion: min() arg is an empty sequence\n",
      "Error finding best criterion: min() arg is an empty sequence\n",
      "Error finding best criterion: min() arg is an empty sequence\n",
      "Error finding best criterion: min() arg is an empty sequence\n",
      "Error finding best criterion: min() arg is an empty sequence\n",
      "Error finding best criterion: min() arg is an empty sequence\n",
      "Error finding best criterion: min() arg is an empty sequence\n",
      "Error finding best criterion: min() arg is an empty sequence\n"
     ]
    }
   ],
   "source": [
    "for child in tree.children:\n",
    "    nodes_to_split = [child]\n",
    "    while nodes_to_split:\n",
    "        current_node = nodes_to_split.pop(0)\n",
    "        if current_node.value is None or not current_node.dataset:\n",
    "            continue\n",
    "        left, right = split_dict(current_node.dataset, current_node.value)\n",
    "        left_criterion = find_best_criterion(left)\n",
    "        right_criterion = find_best_criterion(right)\n",
    "        if left and left_criterion is not None:\n",
    "            left_node = TreeNode(left_criterion, left)\n",
    "            current_node.add_child(left_node)\n",
    "            nodes_to_split.append(left_node)\n",
    "        if right and right_criterion is not None:\n",
    "            right_node = TreeNode(right_criterion, right)\n",
    "            current_node.add_child(right_node)\n",
    "            nodes_to_split.append(right_node)\n",
    "    "
   ]
  },
  {
   "cell_type": "code",
   "execution_count": null,
   "id": "46ae18dd",
   "metadata": {},
   "outputs": [
    {
     "name": "stdout",
     "output_type": "stream",
     "text": [
      "{9: 'B', 10: 'B', 11: 'B', 12: 'B', 13: 'O', 14: 'O', 15: 'O', 16: 'O', 17: 'O'}\n"
     ]
    },
    {
     "data": {
      "text/plain": [
       "16"
      ]
     },
     "execution_count": 25,
     "metadata": {},
     "output_type": "execute_result"
    }
   ],
   "source": [
    "print(tree.children[1].children[0].dataset), \n",
    "tree.children[1].children[0].value"
   ]
  },
  {
   "cell_type": "code",
   "execution_count": null,
   "id": "9780de5d",
   "metadata": {},
   "outputs": [
    {
     "data": {
      "text/plain": [
       "16"
      ]
     },
     "execution_count": 26,
     "metadata": {},
     "output_type": "execute_result"
    }
   ],
   "source": [
    "find_best_criterion(tree.children[1].children[0].dataset)"
   ]
  },
  {
   "cell_type": "code",
   "execution_count": null,
   "id": "16b83523",
   "metadata": {},
   "outputs": [
    {
     "data": {
      "text/plain": [
       "{10: 0.31976006206417584,\n",
       " 11: 0.5577277787393196,\n",
       " 12: 0.9910760598382222,\n",
       " 13: 0.5900048960119098,\n",
       " 14: 0.3788788371352292,\n",
       " 15: 0.2247875095893599,\n",
       " 16: 0.10218717094933338}"
      ]
     },
     "execution_count": 27,
     "metadata": {},
     "output_type": "execute_result"
    }
   ],
   "source": [
    "get_best_criterion(tree.children[1].children[0].dataset)"
   ]
  },
  {
   "cell_type": "code",
   "execution_count": null,
   "id": "6d1b960d",
   "metadata": {},
   "outputs": [
    {
     "data": {
      "text/plain": [
       "{9: 'B',\n",
       " 10: 'B',\n",
       " 11: 'B',\n",
       " 12: 'B',\n",
       " 13: 'O',\n",
       " 14: 'O',\n",
       " 15: 'O',\n",
       " 16: 'O',\n",
       " 17: 'O'}"
      ]
     },
     "execution_count": 28,
     "metadata": {},
     "output_type": "execute_result"
    }
   ],
   "source": [
    "tree.children[1].children[0].dataset"
   ]
  },
  {
   "cell_type": "code",
   "execution_count": null,
   "id": "57d6f6fa",
   "metadata": {},
   "outputs": [
    {
     "data": {
      "text/plain": [
       "{9: 'B', 10: 'B', 11: 'B', 12: 'B', 13: 'O', 14: 'O', 15: 'O', 16: 'O'}"
      ]
     },
     "execution_count": 29,
     "metadata": {},
     "output_type": "execute_result"
    }
   ],
   "source": [
    "tree.children[1].children[0].children[0].dataset"
   ]
  },
  {
   "cell_type": "code",
   "execution_count": null,
   "id": "286b7e13",
   "metadata": {},
   "outputs": [
    {
     "name": "stdout",
     "output_type": "stream",
     "text": [
      "Error finding best criterion: min() arg is an empty sequence\n"
     ]
    }
   ],
   "source": [
    "find_best_criterion(left)"
   ]
  },
  {
   "cell_type": "code",
   "execution_count": null,
   "id": "706b36c9",
   "metadata": {},
   "outputs": [
    {
     "name": "stdout",
     "output_type": "stream",
     "text": [
      "8\n",
      "  1\n",
      "    0\n",
      "    7\n",
      "      2\n",
      "        6\n",
      "          3\n",
      "            5\n",
      "              4\n",
      "  17\n",
      "    16\n",
      "      9\n",
      "        15\n",
      "          10\n",
      "            14\n",
      "              11\n",
      "                13\n",
      "                  12\n",
      "    18\n"
     ]
    }
   ],
   "source": [
    "tree.print_tree()"
   ]
  },
  {
   "cell_type": "code",
   "execution_count": null,
   "id": "300fa1a6",
   "metadata": {},
   "outputs": [],
   "source": [
    "from sklearn.datasets import fetch_california_housing\n",
    "\n",
    "houses_data = fetch_california_housing()"
   ]
  },
  {
   "cell_type": "code",
   "execution_count": null,
   "id": "e258042e",
   "metadata": {},
   "outputs": [
    {
     "data": {
      "text/html": [
       "<div>\n",
       "<style scoped>\n",
       "    .dataframe tbody tr th:only-of-type {\n",
       "        vertical-align: middle;\n",
       "    }\n",
       "\n",
       "    .dataframe tbody tr th {\n",
       "        vertical-align: top;\n",
       "    }\n",
       "\n",
       "    .dataframe thead th {\n",
       "        text-align: right;\n",
       "    }\n",
       "</style>\n",
       "<table border=\"1\" class=\"dataframe\">\n",
       "  <thead>\n",
       "    <tr style=\"text-align: right;\">\n",
       "      <th></th>\n",
       "      <th>MedInc</th>\n",
       "      <th>HouseAge</th>\n",
       "      <th>AveRooms</th>\n",
       "      <th>AveBedrms</th>\n",
       "      <th>Population</th>\n",
       "      <th>AveOccup</th>\n",
       "      <th>Latitude</th>\n",
       "      <th>Longitude</th>\n",
       "      <th>target</th>\n",
       "    </tr>\n",
       "  </thead>\n",
       "  <tbody>\n",
       "    <tr>\n",
       "      <th>0</th>\n",
       "      <td>8.3252</td>\n",
       "      <td>41.0</td>\n",
       "      <td>6.984127</td>\n",
       "      <td>1.023810</td>\n",
       "      <td>322.0</td>\n",
       "      <td>2.555556</td>\n",
       "      <td>37.88</td>\n",
       "      <td>-122.23</td>\n",
       "      <td>4.526</td>\n",
       "    </tr>\n",
       "    <tr>\n",
       "      <th>1</th>\n",
       "      <td>8.3014</td>\n",
       "      <td>21.0</td>\n",
       "      <td>6.238137</td>\n",
       "      <td>0.971880</td>\n",
       "      <td>2401.0</td>\n",
       "      <td>2.109842</td>\n",
       "      <td>37.86</td>\n",
       "      <td>-122.22</td>\n",
       "      <td>3.585</td>\n",
       "    </tr>\n",
       "    <tr>\n",
       "      <th>2</th>\n",
       "      <td>7.2574</td>\n",
       "      <td>52.0</td>\n",
       "      <td>8.288136</td>\n",
       "      <td>1.073446</td>\n",
       "      <td>496.0</td>\n",
       "      <td>2.802260</td>\n",
       "      <td>37.85</td>\n",
       "      <td>-122.24</td>\n",
       "      <td>3.521</td>\n",
       "    </tr>\n",
       "    <tr>\n",
       "      <th>3</th>\n",
       "      <td>5.6431</td>\n",
       "      <td>52.0</td>\n",
       "      <td>5.817352</td>\n",
       "      <td>1.073059</td>\n",
       "      <td>558.0</td>\n",
       "      <td>2.547945</td>\n",
       "      <td>37.85</td>\n",
       "      <td>-122.25</td>\n",
       "      <td>3.413</td>\n",
       "    </tr>\n",
       "    <tr>\n",
       "      <th>4</th>\n",
       "      <td>3.8462</td>\n",
       "      <td>52.0</td>\n",
       "      <td>6.281853</td>\n",
       "      <td>1.081081</td>\n",
       "      <td>565.0</td>\n",
       "      <td>2.181467</td>\n",
       "      <td>37.85</td>\n",
       "      <td>-122.25</td>\n",
       "      <td>3.422</td>\n",
       "    </tr>\n",
       "    <tr>\n",
       "      <th>5</th>\n",
       "      <td>4.0368</td>\n",
       "      <td>52.0</td>\n",
       "      <td>4.761658</td>\n",
       "      <td>1.103627</td>\n",
       "      <td>413.0</td>\n",
       "      <td>2.139896</td>\n",
       "      <td>37.85</td>\n",
       "      <td>-122.25</td>\n",
       "      <td>2.697</td>\n",
       "    </tr>\n",
       "    <tr>\n",
       "      <th>6</th>\n",
       "      <td>3.6591</td>\n",
       "      <td>52.0</td>\n",
       "      <td>4.931907</td>\n",
       "      <td>0.951362</td>\n",
       "      <td>1094.0</td>\n",
       "      <td>2.128405</td>\n",
       "      <td>37.84</td>\n",
       "      <td>-122.25</td>\n",
       "      <td>2.992</td>\n",
       "    </tr>\n",
       "    <tr>\n",
       "      <th>7</th>\n",
       "      <td>3.1200</td>\n",
       "      <td>52.0</td>\n",
       "      <td>4.797527</td>\n",
       "      <td>1.061824</td>\n",
       "      <td>1157.0</td>\n",
       "      <td>1.788253</td>\n",
       "      <td>37.84</td>\n",
       "      <td>-122.25</td>\n",
       "      <td>2.414</td>\n",
       "    </tr>\n",
       "    <tr>\n",
       "      <th>8</th>\n",
       "      <td>2.0804</td>\n",
       "      <td>42.0</td>\n",
       "      <td>4.294118</td>\n",
       "      <td>1.117647</td>\n",
       "      <td>1206.0</td>\n",
       "      <td>2.026891</td>\n",
       "      <td>37.84</td>\n",
       "      <td>-122.26</td>\n",
       "      <td>2.267</td>\n",
       "    </tr>\n",
       "    <tr>\n",
       "      <th>9</th>\n",
       "      <td>3.6912</td>\n",
       "      <td>52.0</td>\n",
       "      <td>4.970588</td>\n",
       "      <td>0.990196</td>\n",
       "      <td>1551.0</td>\n",
       "      <td>2.172269</td>\n",
       "      <td>37.84</td>\n",
       "      <td>-122.25</td>\n",
       "      <td>2.611</td>\n",
       "    </tr>\n",
       "    <tr>\n",
       "      <th>10</th>\n",
       "      <td>3.2031</td>\n",
       "      <td>52.0</td>\n",
       "      <td>5.477612</td>\n",
       "      <td>1.079602</td>\n",
       "      <td>910.0</td>\n",
       "      <td>2.263682</td>\n",
       "      <td>37.85</td>\n",
       "      <td>-122.26</td>\n",
       "      <td>2.815</td>\n",
       "    </tr>\n",
       "    <tr>\n",
       "      <th>11</th>\n",
       "      <td>3.2705</td>\n",
       "      <td>52.0</td>\n",
       "      <td>4.772480</td>\n",
       "      <td>1.024523</td>\n",
       "      <td>1504.0</td>\n",
       "      <td>2.049046</td>\n",
       "      <td>37.85</td>\n",
       "      <td>-122.26</td>\n",
       "      <td>2.418</td>\n",
       "    </tr>\n",
       "    <tr>\n",
       "      <th>12</th>\n",
       "      <td>3.0750</td>\n",
       "      <td>52.0</td>\n",
       "      <td>5.322650</td>\n",
       "      <td>1.012821</td>\n",
       "      <td>1098.0</td>\n",
       "      <td>2.346154</td>\n",
       "      <td>37.85</td>\n",
       "      <td>-122.26</td>\n",
       "      <td>2.135</td>\n",
       "    </tr>\n",
       "    <tr>\n",
       "      <th>13</th>\n",
       "      <td>2.6736</td>\n",
       "      <td>52.0</td>\n",
       "      <td>4.000000</td>\n",
       "      <td>1.097701</td>\n",
       "      <td>345.0</td>\n",
       "      <td>1.982759</td>\n",
       "      <td>37.84</td>\n",
       "      <td>-122.26</td>\n",
       "      <td>1.913</td>\n",
       "    </tr>\n",
       "    <tr>\n",
       "      <th>14</th>\n",
       "      <td>1.9167</td>\n",
       "      <td>52.0</td>\n",
       "      <td>4.262903</td>\n",
       "      <td>1.009677</td>\n",
       "      <td>1212.0</td>\n",
       "      <td>1.954839</td>\n",
       "      <td>37.85</td>\n",
       "      <td>-122.26</td>\n",
       "      <td>1.592</td>\n",
       "    </tr>\n",
       "    <tr>\n",
       "      <th>15</th>\n",
       "      <td>2.1250</td>\n",
       "      <td>50.0</td>\n",
       "      <td>4.242424</td>\n",
       "      <td>1.071970</td>\n",
       "      <td>697.0</td>\n",
       "      <td>2.640152</td>\n",
       "      <td>37.85</td>\n",
       "      <td>-122.26</td>\n",
       "      <td>1.400</td>\n",
       "    </tr>\n",
       "    <tr>\n",
       "      <th>16</th>\n",
       "      <td>2.7750</td>\n",
       "      <td>52.0</td>\n",
       "      <td>5.939577</td>\n",
       "      <td>1.048338</td>\n",
       "      <td>793.0</td>\n",
       "      <td>2.395770</td>\n",
       "      <td>37.85</td>\n",
       "      <td>-122.27</td>\n",
       "      <td>1.525</td>\n",
       "    </tr>\n",
       "    <tr>\n",
       "      <th>17</th>\n",
       "      <td>2.1202</td>\n",
       "      <td>52.0</td>\n",
       "      <td>4.052805</td>\n",
       "      <td>0.966997</td>\n",
       "      <td>648.0</td>\n",
       "      <td>2.138614</td>\n",
       "      <td>37.85</td>\n",
       "      <td>-122.27</td>\n",
       "      <td>1.555</td>\n",
       "    </tr>\n",
       "    <tr>\n",
       "      <th>18</th>\n",
       "      <td>1.9911</td>\n",
       "      <td>50.0</td>\n",
       "      <td>5.343675</td>\n",
       "      <td>1.085919</td>\n",
       "      <td>990.0</td>\n",
       "      <td>2.362768</td>\n",
       "      <td>37.84</td>\n",
       "      <td>-122.26</td>\n",
       "      <td>1.587</td>\n",
       "    </tr>\n",
       "    <tr>\n",
       "      <th>19</th>\n",
       "      <td>2.6033</td>\n",
       "      <td>52.0</td>\n",
       "      <td>5.465455</td>\n",
       "      <td>1.083636</td>\n",
       "      <td>690.0</td>\n",
       "      <td>2.509091</td>\n",
       "      <td>37.84</td>\n",
       "      <td>-122.27</td>\n",
       "      <td>1.629</td>\n",
       "    </tr>\n",
       "  </tbody>\n",
       "</table>\n",
       "</div>"
      ],
      "text/plain": [
       "    MedInc  HouseAge  AveRooms  AveBedrms  Population  AveOccup  Latitude  \\\n",
       "0   8.3252      41.0  6.984127   1.023810       322.0  2.555556     37.88   \n",
       "1   8.3014      21.0  6.238137   0.971880      2401.0  2.109842     37.86   \n",
       "2   7.2574      52.0  8.288136   1.073446       496.0  2.802260     37.85   \n",
       "3   5.6431      52.0  5.817352   1.073059       558.0  2.547945     37.85   \n",
       "4   3.8462      52.0  6.281853   1.081081       565.0  2.181467     37.85   \n",
       "5   4.0368      52.0  4.761658   1.103627       413.0  2.139896     37.85   \n",
       "6   3.6591      52.0  4.931907   0.951362      1094.0  2.128405     37.84   \n",
       "7   3.1200      52.0  4.797527   1.061824      1157.0  1.788253     37.84   \n",
       "8   2.0804      42.0  4.294118   1.117647      1206.0  2.026891     37.84   \n",
       "9   3.6912      52.0  4.970588   0.990196      1551.0  2.172269     37.84   \n",
       "10  3.2031      52.0  5.477612   1.079602       910.0  2.263682     37.85   \n",
       "11  3.2705      52.0  4.772480   1.024523      1504.0  2.049046     37.85   \n",
       "12  3.0750      52.0  5.322650   1.012821      1098.0  2.346154     37.85   \n",
       "13  2.6736      52.0  4.000000   1.097701       345.0  1.982759     37.84   \n",
       "14  1.9167      52.0  4.262903   1.009677      1212.0  1.954839     37.85   \n",
       "15  2.1250      50.0  4.242424   1.071970       697.0  2.640152     37.85   \n",
       "16  2.7750      52.0  5.939577   1.048338       793.0  2.395770     37.85   \n",
       "17  2.1202      52.0  4.052805   0.966997       648.0  2.138614     37.85   \n",
       "18  1.9911      50.0  5.343675   1.085919       990.0  2.362768     37.84   \n",
       "19  2.6033      52.0  5.465455   1.083636       690.0  2.509091     37.84   \n",
       "\n",
       "    Longitude  target  \n",
       "0     -122.23   4.526  \n",
       "1     -122.22   3.585  \n",
       "2     -122.24   3.521  \n",
       "3     -122.25   3.413  \n",
       "4     -122.25   3.422  \n",
       "5     -122.25   2.697  \n",
       "6     -122.25   2.992  \n",
       "7     -122.25   2.414  \n",
       "8     -122.26   2.267  \n",
       "9     -122.25   2.611  \n",
       "10    -122.26   2.815  \n",
       "11    -122.26   2.418  \n",
       "12    -122.26   2.135  \n",
       "13    -122.26   1.913  \n",
       "14    -122.26   1.592  \n",
       "15    -122.26   1.400  \n",
       "16    -122.27   1.525  \n",
       "17    -122.27   1.555  \n",
       "18    -122.26   1.587  \n",
       "19    -122.27   1.629  "
      ]
     },
     "execution_count": 33,
     "metadata": {},
     "output_type": "execute_result"
    }
   ],
   "source": [
    "houses =  pd.DataFrame(data=houses_data.data, columns=houses_data.feature_names)\n",
    "houses['target'] = houses_data.target\n",
    "houses.head(20)"
   ]
  },
  {
   "cell_type": "code",
   "execution_count": null,
   "id": "a28dbd67",
   "metadata": {},
   "outputs": [],
   "source": [
    "\n",
    "matrix_house = houses.values"
   ]
  },
  {
   "cell_type": "code",
   "execution_count": null,
   "id": "89c4fadb",
   "metadata": {},
   "outputs": [],
   "source": [
    "train_split = int(len(matrix_house) * 0.8)"
   ]
  },
  {
   "cell_type": "code",
   "execution_count": null,
   "id": "a593ace9",
   "metadata": {},
   "outputs": [],
   "source": [
    "predict_train = matrix_house[:train_split, -1]\n",
    "matrix_house_train = matrix_house[:train_split, :-1]\n",
    "predict_test = matrix_house[train_split:, -1]\n",
    "matrix_house_test = matrix_house[train_split:, :-1]\n"
   ]
  },
  {
   "cell_type": "code",
   "execution_count": null,
   "id": "9b4af854",
   "metadata": {},
   "outputs": [],
   "source": [
    "import numpy as np"
   ]
  },
  {
   "cell_type": "code",
   "execution_count": null,
   "id": "88055cfa",
   "metadata": {},
   "outputs": [
    {
     "data": {
      "text/plain": [
       "np.float64(1.0650826446280992)"
      ]
     },
     "execution_count": 38,
     "metadata": {},
     "output_type": "execute_result"
    }
   ],
   "source": [
    "np.quantile(matrix_house_train, 0.2)"
   ]
  },
  {
   "cell_type": "code",
   "execution_count": null,
   "id": "d3bf6165",
   "metadata": {},
   "outputs": [
    {
     "data": {
      "text/plain": [
       "array([41., 21., 52., ..., 22.,  7., 22.], shape=(16512,))"
      ]
     },
     "execution_count": 39,
     "metadata": {},
     "output_type": "execute_result"
    }
   ],
   "source": [
    "matrix_house_train[:, 1]"
   ]
  },
  {
   "cell_type": "code",
   "execution_count": null,
   "id": "26cb6b26",
   "metadata": {},
   "outputs": [],
   "source": [
    "#An Introduction to Statistical Learning"
   ]
  },
  {
   "cell_type": "code",
   "execution_count": null,
   "id": "20025c8a",
   "metadata": {},
   "outputs": [],
   "source": [
    "class Node:\n",
    "    def __init__(self, feature=None, threshold=None, left=None, right=None, value=None):\n",
    "        self.feature = feature\n",
    "        self.threshold = threshold\n",
    "        self.left = left\n",
    "        self.right = right\n",
    "        self.value = value\n",
    "\n",
    "    def is_leaf(self):\n",
    "        return self.data is not None"
   ]
  },
  {
   "cell_type": "code",
   "execution_count": null,
   "id": "89450755",
   "metadata": {},
   "outputs": [],
   "source": [
    "class DecisionTreeRegression:\n",
    "    def __init__(self, data=None, alpha=1e-6, epochs=100, lr=0.01):\n",
    "        self.epochs = epochs\n",
    "        self.lr = lr\n",
    "        self.data = data\n",
    "        self.alpha = alpha\n",
    "        self.nodes = []\n",
    "\n",
    "    def cost_complexity_pruning(self, x, y):\n",
    "        return ((y, self.predict(x)) ** 2) * (self.alpha * len(self.nodes))\n",
    "\n",
    "    def predict(self, x):\n",
    "        pass\n",
    "\n",
    "    def numerical_split(self, x, feature, threshold, y, return_x=False):\n",
    "        \"\"\"\n",
    "        Returns (right_y, left_y)\n",
    "        \"\"\"\n",
    "        mask = x[:, feature] >= threshold\n",
    "        if return_x:\n",
    "            right = x[mask], y[mask]\n",
    "            left = x[mask], y[~mask]\n",
    "        else:\n",
    "            right = y[mask]\n",
    "            left = y[~mask]\n",
    "        return right, left\n",
    "\n",
    "    def compute_loss(self, x, feature, threshold, y):\n",
    "        right, left = self.numerical_split(x, feature, threshold, y)\n",
    "        if len(right) == 0 or len(left) == 0:\n",
    "            return float(\"inf\")\n",
    "        right_mean = np.mean(right, axis=0)\n",
    "        left_mean = np.mean(left, axis=0)\n",
    "        metric_right = np.sum((right - right_mean) ** 2)\n",
    "        metric_left = np.sum((left - left_mean) ** 2)\n",
    "        return metric_right + metric_left\n",
    "\n",
    "    def compute_gradient(self, x, feature, threshold, y):\n",
    "        # Central difference\n",
    "        loss1 = self.compute_loss(x, feature, threshold - self.alpha, y)\n",
    "        loss2 = self.compute_loss(x, feature, threshold + self.alpha, y)\n",
    "        return (loss2 - loss1) / (2 * self.alpha)\n",
    "\n",
    "    def best_numerical_split(self, x, feature, y):\n",
    "        threshold = float(np.mean(x[:, feature]))\n",
    "        for _ in range(self.epochs):\n",
    "            grad = self.compute_gradient(x, feature, threshold, y)\n",
    "            threshold -= self.lr * grad\n",
    "        return float(threshold)\n",
    "\n",
    "    def build_tree(self, x, y):\n",
    "        # Base case: if y is pure or too small, return a leaf\n",
    "        if len(set(y)) == 1 or len(y) <= 1:\n",
    "            return Node(\n",
    "                feature=None, threshold=None, left=None, right=None, value=np.mean(y)\n",
    "            )\n",
    "\n",
    "        num_samples, num_features = x.shape\n",
    "        best_feature = None\n",
    "        best_threshold = None\n",
    "        best_score = float(\"inf\")\n",
    "\n",
    "        for feature in range(num_features):\n",
    "            threshold = self.best_numerical_split(x, feature, y)\n",
    "            loss = self.compute_loss(x, feature, threshold, y)\n",
    "\n",
    "            if loss < best_score:\n",
    "                best_score = loss\n",
    "                best_feature = feature\n",
    "                best_threshold = threshold\n",
    "\n",
    "        if best_feature is None:\n",
    "            return Node(\n",
    "                feature=None, threshold=None, left=None, right=None, value=np.mean(y)\n",
    "            )\n",
    "\n",
    "        # Split data\n",
    "        mask = x[:, best_feature] >= best_threshold\n",
    "        right_x, right_y = x[mask], y[mask]\n",
    "        left_x, left_y = x[~mask], y[~mask]\n",
    "\n",
    "        # If split leads to empty child (shouldn't happen), return a leaf\n",
    "        if len(left_y) == 0 or len(right_y) == 0:\n",
    "            return Node(\n",
    "                feature=None, threshold=None, left=None, right=None, value=np.mean(y)\n",
    "            )\n",
    "\n",
    "        # Recursively build subtrees\n",
    "        left_node = self.build_tree(left_x, left_y)\n",
    "        right_node = self.build_tree(right_x, right_y)\n",
    "\n",
    "        return Node(\n",
    "            feature=best_feature,\n",
    "            threshold=best_threshold,\n",
    "            left=left_node,\n",
    "            right=right_node,\n",
    "            value=None,\n",
    "        )\n"
   ]
  },
  {
   "cell_type": "code",
   "execution_count": null,
   "id": "3a672e71",
   "metadata": {},
   "outputs": [
    {
     "data": {
      "text/plain": [
       "(16512, 8)"
      ]
     },
     "execution_count": 43,
     "metadata": {},
     "output_type": "execute_result"
    }
   ],
   "source": [
    "matrix_house_train.shape"
   ]
  },
  {
   "cell_type": "code",
   "execution_count": null,
   "id": "129cd33d",
   "metadata": {},
   "outputs": [],
   "source": [
    "decision = DecisionTreeRegression()\n"
   ]
  },
  {
   "cell_type": "code",
   "execution_count": null,
   "id": "45f622cf",
   "metadata": {},
   "outputs": [],
   "source": [
    "test = decision.build_tree(matrix_house_train, predict_train)"
   ]
  },
  {
   "cell_type": "code",
   "execution_count": null,
   "id": "4df1583b",
   "metadata": {},
   "outputs": [
    {
     "data": {
      "text/plain": [
       "(0, 3.8004513263081394)"
      ]
     },
     "execution_count": 48,
     "metadata": {},
     "output_type": "execute_result"
    }
   ],
   "source": [
    "test.feature, test.threshold"
   ]
  },
  {
   "cell_type": "code",
   "execution_count": null,
   "id": "f43fe481",
   "metadata": {},
   "outputs": [
    {
     "data": {
      "text/plain": [
       "(0, 2.627749834505585, 0, 5.457037828755114)"
      ]
     },
     "execution_count": 52,
     "metadata": {},
     "output_type": "execute_result"
    }
   ],
   "source": [
    "test.left.feature, test.left.threshold, test.right.feature, test.right.threshold"
   ]
  },
  {
   "cell_type": "code",
   "execution_count": null,
   "id": "03966d08",
   "metadata": {},
   "outputs": [],
   "source": []
  }
 ],
 "metadata": {
  "kernelspec": {
   "display_name": "machine-learning-from-scratch",
   "language": "python",
   "name": "python3"
  },
  "language_info": {
   "codemirror_mode": {
    "name": "ipython",
    "version": 3
   },
   "file_extension": ".py",
   "mimetype": "text/x-python",
   "name": "python",
   "nbconvert_exporter": "python",
   "pygments_lexer": "ipython3",
   "version": "3.11.11"
  }
 },
 "nbformat": 4,
 "nbformat_minor": 5
}
